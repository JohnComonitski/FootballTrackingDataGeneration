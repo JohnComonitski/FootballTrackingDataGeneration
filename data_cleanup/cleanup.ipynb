{
 "cells": [
  {
   "cell_type": "markdown",
   "metadata": {},
   "source": [
    "# Tracking Data Clean Up Notebook"
   ]
  },
  {
   "cell_type": "markdown",
   "metadata": {},
   "source": [
    "**Imports**"
   ]
  },
  {
   "cell_type": "code",
   "execution_count": null,
   "metadata": {},
   "outputs": [],
   "source": [
    "from lib.match import Match"
   ]
  },
  {
   "cell_type": "markdown",
   "metadata": {},
   "source": [
    "**Tracking Data Import**"
   ]
  },
  {
   "cell_type": "code",
   "execution_count": null,
   "metadata": {},
   "outputs": [],
   "source": [
    "PATH = \"./../track/output/\"\n",
    "FILE_NAME = \"\""
   ]
  },
  {
   "cell_type": "code",
   "execution_count": null,
   "metadata": {},
   "outputs": [],
   "source": [
    "match = Match()\n",
    "match.import_metrica(PATH, FILE_NAME)"
   ]
  },
  {
   "cell_type": "markdown",
   "metadata": {},
   "source": [
    "**Data Cleaning**"
   ]
  },
  {
   "cell_type": "code",
   "execution_count": null,
   "metadata": {},
   "outputs": [],
   "source": [
    "#Do your data cleaning here...\n",
    "# Get Ball Path\n",
    "ball = match.ball\n",
    "ball.clean_path()\n",
    "\n",
    "# Merge Players\n",
    "player_1 = match.player(13)\n",
    "player_2 = match.player(39)\n",
    "match.merge_players(player_1, player_2)\n",
    "\n",
    "player_1 = match.player(3)\n",
    "player_2 = match.player(29)\n",
    "match.merge_players(player_1, player_2)\n",
    "\n",
    "# Remove Players\n",
    "player = match.player(32)\n",
    "match.remove_player(player)\n",
    "\n",
    "#Fix Teams:\n",
    "player = match.player(16)\n",
    "player.change_team(1)\n",
    "player = match.player(33)\n",
    "player.change_team(1)\n"
   ]
  },
  {
   "cell_type": "markdown",
   "metadata": {},
   "source": [
    "**Exoprt Data**"
   ]
  },
  {
   "cell_type": "markdown",
   "metadata": {},
   "source": [
    "match.export()"
   ]
  }
 ],
 "metadata": {
  "language_info": {
   "name": "python"
  }
 },
 "nbformat": 4,
 "nbformat_minor": 2
}

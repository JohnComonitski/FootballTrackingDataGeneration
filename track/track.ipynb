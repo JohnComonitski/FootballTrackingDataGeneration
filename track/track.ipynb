{
 "cells": [
  {
   "cell_type": "markdown",
   "metadata": {},
   "source": [
    "**Configurations**"
   ]
  },
  {
   "cell_type": "code",
   "execution_count": null,
   "metadata": {},
   "outputs": [],
   "source": [
    "generate_video = 0\n",
    "track_teams = 1\n",
    "save_results = 1"
   ]
  },
  {
   "cell_type": "markdown",
   "metadata": {},
   "source": [
    "**Imports**"
   ]
  },
  {
   "cell_type": "code",
   "execution_count": null,
   "metadata": {},
   "outputs": [],
   "source": [
    "from inference import get_model\n",
    "import supervision as sv\n",
    "from tqdm import tqdm\n",
    "import pandas as pd\n",
    "import numpy as np\n",
    "from sports.common.team import TeamClassifier\n",
    "from sports.annotators.soccer import draw_pitch, draw_points_on_pitch\n",
    "from sports.configs.soccer import SoccerPitchConfiguration\n",
    "from sports.common.view import ViewTransformer\n",
    "from supervision.draw.utils import draw_image\n",
    "from typing import List, Union\n",
    "from collections import deque\n",
    "from ..env import keys\n",
    "import os"
   ]
  },
  {
   "cell_type": "code",
   "execution_count": null,
   "metadata": {},
   "outputs": [],
   "source": [
    "os.environ[\"ONNXRUNTIME_EXECUTION_PROVIDERS\"] = \"[CUDAExecutionProvider]\""
   ]
  },
  {
   "cell_type": "markdown",
   "metadata": {},
   "source": [
    "**Model**"
   ]
  },
  {
   "cell_type": "code",
   "execution_count": null,
   "metadata": {},
   "outputs": [],
   "source": [
    "ROBOFLOW_API_KEY = keys[\"roboflow_api\"]\n",
    "PLAYER_DETECTION_MODEL_ID = \"football-players-detection-3zvbc/11\"\n",
    "PLAYER_DETECTION_MODEL = get_model(model_id=PLAYER_DETECTION_MODEL_ID, api_key=ROBOFLOW_API_KEY)\n",
    "\n",
    "FIELD_DETECTION_MODEL_ID = \"football-field-detection-f07vi/14\"\n",
    "FIELD_DETECTION_MODEL = get_model(model_id=FIELD_DETECTION_MODEL_ID, api_key=ROBOFLOW_API_KEY)"
   ]
  },
  {
   "cell_type": "markdown",
   "metadata": {},
   "source": [
    "**Data Source**"
   ]
  },
  {
   "cell_type": "code",
   "execution_count": null,
   "metadata": {},
   "outputs": [],
   "source": [
    "SOURCE_VIDEO_PATH = './footage/2e57b9_0.mp4'"
   ]
  },
  {
   "cell_type": "markdown",
   "metadata": {},
   "source": [
    "**Classes**"
   ]
  },
  {
   "cell_type": "code",
   "execution_count": null,
   "metadata": {},
   "outputs": [],
   "source": [
    "objects = {\n",
    "    \"ball\" : 0,\n",
    "    \"goalkeeper\" : 1,\n",
    "    \"player\" : 2,\n",
    "    \"referee\" :3\n",
    "}"
   ]
  },
  {
   "cell_type": "markdown",
   "metadata": {},
   "source": [
    "**Annotations**"
   ]
  },
  {
   "cell_type": "code",
   "execution_count": null,
   "metadata": {},
   "outputs": [],
   "source": [
    "ellipse_annotator = sv.EllipseAnnotator(\n",
    "    color=sv.ColorPalette.from_hex(['#00BFFF', '#FF1493', '#FFD700']),\n",
    "    thickness=2\n",
    ")\n",
    "label_annotator = sv.LabelAnnotator(\n",
    "    color=sv.ColorPalette.from_hex(['#00BFFF', '#FF1493', '#FFD700']),\n",
    "    text_color=sv.Color.from_hex('#000000'),\n",
    "    text_position=sv.Position.BOTTOM_CENTER\n",
    ")\n",
    "triangle_annotator = sv.TriangleAnnotator(\n",
    "    color=sv.Color.from_hex('#FFD700'),\n",
    "    base=25,\n",
    "    height=21,\n",
    "    outline_thickness=1\n",
    ")\n",
    "box_annotator = sv.BoxAnnotator(\n",
    "    color=sv.ColorPalette.from_hex(['#FF8C00', '#00BFFF', '#FF1493', '#FFD700']),\n",
    "    thickness=2\n",
    ")"
   ]
  },
  {
   "cell_type": "markdown",
   "metadata": {},
   "source": [
    "**Identify Goal Keeper**"
   ]
  },
  {
   "cell_type": "code",
   "execution_count": null,
   "metadata": {},
   "outputs": [],
   "source": [
    "def resolve_goalkeepers_team_id(players, goalkeepers):\n",
    "    goalkeepers_xy = goalkeepers.get_anchors_coordinates(sv.Position.BOTTOM_CENTER)\n",
    "    players_xy = players.get_anchors_coordinates(sv.Position.BOTTOM_CENTER)\n",
    "    team_0_centroid = players_xy[players.class_id == 0].mean(axis=0)\n",
    "    team_1_centroid = players_xy[players.class_id == 1].mean(axis=0)\n",
    "    goalkeepers_team_id = []\n",
    "    for goalkeeper_xy in goalkeepers_xy:\n",
    "        dist_0 = np.linalg.norm(goalkeeper_xy - team_0_centroid)\n",
    "        dist_1 = np.linalg.norm(goalkeeper_xy - team_1_centroid)\n",
    "        goalkeepers_team_id.append(0 if dist_0 < dist_1 else 1)\n",
    "\n",
    "    return np.array(goalkeepers_team_id)"
   ]
  },
  {
   "cell_type": "markdown",
   "metadata": {},
   "source": [
    "**Get Detections**"
   ]
  },
  {
   "cell_type": "code",
   "execution_count": null,
   "metadata": {},
   "outputs": [],
   "source": [
    "def get_detections(frame, detections, key_points, tracker, team_classifier):\n",
    "  CONFIG = SoccerPitchConfiguration()\n",
    "\n",
    "  # Organize Detections\n",
    "  ball_detections = detections[detections.class_id == objects[\"ball\"]]\n",
    "  ball_detections.xyxy = sv.pad_boxes(xyxy=ball_detections.xyxy, px=10)\n",
    "\n",
    "  all_detections = detections[detections.class_id != objects[\"ball\"]]\n",
    "  all_detections = all_detections.with_nms(threshold=0.5, class_agnostic=True)\n",
    "  all_detections = tracker.update_with_detections(detections=all_detections)\n",
    "\n",
    "  goalkeepers_detections = all_detections[all_detections.class_id == objects[\"goalkeeper\"]]\n",
    "  players_detections = all_detections[all_detections.class_id == objects[\"player\"]]\n",
    "\n",
    "  if(team_classifier):\n",
    "    players_crops = [sv.crop_image(frame, xyxy) for xyxy in players_detections.xyxy]\n",
    "    players_detections.class_id = team_classifier.predict(players_crops)\n",
    "\n",
    "  goalkeepers_detections.class_id = resolve_goalkeepers_team_id(\n",
    "      players_detections, goalkeepers_detections)\n",
    "\n",
    "  # Adjust Points to 2D Pitch\n",
    "  filter = key_points.confidence[0] > 0.5\n",
    "  frame_reference_points = key_points.xy[0][filter]\n",
    "  pitch_reference_points = np.array(CONFIG.vertices)[filter]\n",
    "\n",
    "  transformer = ViewTransformer(\n",
    "      source=frame_reference_points,\n",
    "      target=pitch_reference_points\n",
    "  )\n",
    "\n",
    "  frame_ball_xy = ball_detections.get_anchors_coordinates(sv.Position.BOTTOM_CENTER)\n",
    "  pitch_ball_xy = transformer.transform_points(points=frame_ball_xy)\n",
    "  ball_detections.data[\"pitch_xy\"] = pitch_ball_xy\n",
    "\n",
    "  frame_goalkeepers_xy = goalkeepers_detections.get_anchors_coordinates(sv.Position.BOTTOM_CENTER)\n",
    "  pitch_goalkeepers_xy = transformer.transform_points(points=frame_goalkeepers_xy)\n",
    "  goalkeepers_detections.data[\"pitch_xy\"] = pitch_goalkeepers_xy\n",
    "\n",
    "  frame_players_xy = players_detections.get_anchors_coordinates(sv.Position.BOTTOM_CENTER)\n",
    "  pitch_players_xy = transformer.transform_points(points=frame_players_xy)\n",
    "  players_detections.data[\"pitch_xy\"] = pitch_players_xy\n",
    "\n",
    "  # Merge Detections\n",
    "  all_detections = sv.Detections.merge([ players_detections, goalkeepers_detections ])\n",
    "\n",
    "  return (all_detections, ball_detections)"
   ]
  },
  {
   "cell_type": "markdown",
   "metadata": {},
   "source": [
    "**Identify Teams**"
   ]
  },
  {
   "cell_type": "code",
   "execution_count": null,
   "metadata": {},
   "outputs": [],
   "source": [
    "def generate_team_model(video, PLAYER_DETECTION_MODEL):\n",
    "  STRIDE = 30\n",
    "\n",
    "  frame_generator = sv.get_video_frames_generator(\n",
    "      source_path=SOURCE_VIDEO_PATH, stride=STRIDE)\n",
    "\n",
    "  crops = []\n",
    "  for frame in tqdm(frame_generator, desc='collecting crops'):\n",
    "      result = PLAYER_DETECTION_MODEL.infer(frame, confidence=0.3)[0]\n",
    "      detections = sv.Detections.from_inference(result)\n",
    "      players_crops = [sv.crop_image(frame, xyxy) for xyxy in detections.xyxy]\n",
    "      crops += players_crops\n",
    "\n",
    "  team_classifier = TeamClassifier(device=\"cuda\")\n",
    "  team_classifier.fit(crops)\n",
    "\n",
    "  return team_classifier"
   ]
  },
  {
   "cell_type": "markdown",
   "metadata": {},
   "source": [
    "**Output Results**"
   ]
  },
  {
   "cell_type": "code",
   "execution_count": null,
   "metadata": {},
   "outputs": [],
   "source": [
    "def save_tracking_results(players, ball, frames):\n",
    "  csv = \"Frame,Object,Object ID,Team,X1,Y1,X1,X2,X_Pitch,Y_Pitch\\n\"\n",
    "  for frame in range(1, frames):\n",
    "    for player in players:\n",
    "      player_data = players[player]\n",
    "      if str(frame) in player_data:\n",
    "        csv += str(frame) + \",player,\" + str(player) + \",\" + str(player_data[str(frame)][\"Team\"]) + \",\" + str(player_data[str(frame)][\"X1\"]) + \",\" + str(player_data[str(frame)][\"Y1\"]) + \",\"  + str(player_data[str(frame)][\"X2\"]) + \",\" + str(player_data[str(frame)][\"Y2\"]) + \",\" + str(player_data[str(frame)][\"X_Pitch\"]) + \",\" + str(player_data[str(frame)][\"Y_Pitch\"]) + \"\\n\"\n",
    "    if str(frame) in ball:\n",
    "      csv += str(frame) + \",ball,,,\" + str(ball[str(frame)][\"X1\"]) + \",\" + str(ball[str(frame)][\"Y1\"]) + \",\" + str(ball[str(frame)][\"X2\"]) + \",\" + str(ball[str(frame)][\"Y2\"]) + \",\" + str(ball[str(frame)][\"X_Pitch\"]) + \",\" + str(ball[str(frame)][\"Y_Pitch\"]) + \"\\n\"\n",
    "\n",
    "  with open(\"tracking_results.csv\", \"w\") as file:\n",
    "    file.write(csv)"
   ]
  },
  {
   "cell_type": "markdown",
   "metadata": {},
   "source": [
    "**Tracking**"
   ]
  },
  {
   "cell_type": "code",
   "execution_count": null,
   "metadata": {},
   "outputs": [],
   "source": [
    "CONFIG = SoccerPitchConfiguration()\n",
    "tracking_results = \"\"\n",
    "\n",
    "#Get Video\n",
    "frame_generator = sv.get_video_frames_generator(SOURCE_VIDEO_PATH)\n",
    "\n",
    "tracker = sv.ByteTrack()\n",
    "tracker.reset()"
   ]
  },
  {
   "cell_type": "code",
   "execution_count": null,
   "metadata": {},
   "outputs": [],
   "source": [
    "team_classifier = None\n",
    "if(track_teams):\n",
    "  team_classifier = generate_team_model(SOURCE_VIDEO_PATH, PLAYER_DETECTION_MODEL)"
   ]
  },
  {
   "cell_type": "code",
   "execution_count": null,
   "metadata": {},
   "outputs": [],
   "source": [
    "#Iterate Over Each Frame\n",
    "frame_number = 1\n",
    "video_info = sv.VideoInfo.from_video_path(video_path=SOURCE_VIDEO_PATH)\n",
    "players = {}\n",
    "ball = {}\n",
    "\n",
    "with sv.VideoSink(target_path=\"./output.mp4\", video_info=video_info) as sink:\n",
    "  for frame in tqdm(frame_generator, desc='Collecting Tracking Data...'):\n",
    "    result = PLAYER_DETECTION_MODEL.infer(frame, confidence=0.3)[0]\n",
    "    detections = sv.Detections.from_inference(result)\n",
    "\n",
    "    result = FIELD_DETECTION_MODEL.infer(frame, confidence=0.3)[0]\n",
    "    key_points = sv.KeyPoints.from_inference(result)\n",
    "\n",
    "    #Organize Detections\n",
    "    all_detections, ball_detections = get_detections(frame, detections, key_points, tracker, team_classifier)\n",
    "    object_ids = all_detections.tracker_id\n",
    "    team_ids = all_detections.class_id\n",
    "    object_types = all_detections.data[\"class_name\"]\n",
    "    pitch_xys = all_detections.data[\"pitch_xy\"]\n",
    "    ball_pitch_xys = ball_detections.data[\"pitch_xy\"]\n",
    "    all_detections.class_id = all_detections.class_id.astype(int)\n",
    "\n",
    "    labels = [\n",
    "        f\"#{tracker_id}\"\n",
    "        for tracker_id\n",
    "        in all_detections.tracker_id\n",
    "    ]\n",
    "\n",
    "    #Iterate Over Frames\n",
    "    for idx, xyxy in enumerate(all_detections.xyxy):\n",
    "      team_id = 0\n",
    "      if(tracker):\n",
    "        team_id = team_ids[idx]\n",
    "\n",
    "      object_id = str(object_ids[idx])\n",
    "      if(object_id not in players):\n",
    "        players[object_id] = {}\n",
    "\n",
    "      players[object_id][str(frame_number)] = {\n",
    "          \"Object Type\" : object_types[idx],\n",
    "          \"Team\" : team_id,\n",
    "          \"X1\" : xyxy[0],\n",
    "          \"Y1\" : xyxy[1],\n",
    "          \"X2\" : xyxy[2],\n",
    "          \"Y2\" : xyxy[3],\n",
    "          \"X_Pitch\" : pitch_xys[idx][0],\n",
    "          \"Y_Pitch\" : pitch_xys[idx][1],\n",
    "          \"Y_MPLSoccer\" : float(float(pitch_xys[idx][1]) / float(CONFIG.width)),\n",
    "          \"X_MPLSoccer\" : float(float(pitch_xys[idx][0]) / float(CONFIG.length))\n",
    "      }\n",
    "\n",
    "    if(ball_detections.xyxy.shape[0]):\n",
    "      ball[str(frame_number)] = {\n",
    "            \"X1\" : ball_detections.xyxy[0][0],\n",
    "            \"Y1\" : ball_detections.xyxy[0][1],\n",
    "            \"X2\" : ball_detections.xyxy[0][2],\n",
    "            \"Y2\" : ball_detections.xyxy[0][3],\n",
    "            \"X_Pitch\" : ball_pitch_xys[0][0],\n",
    "            \"Y_Pitch\" : ball_pitch_xys[0][1],\n",
    "            \"Y_MPLSoccer\" : float(float(ball_pitch_xys[0][1]) / float(CONFIG.width)),\n",
    "            \"X_MPLSoccer\" : float(float(ball_pitch_xys[0][0]) / float(CONFIG.length))\n",
    "      }\n",
    "    else:\n",
    "      ball[str(frame_number)] = {\n",
    "            \"X1\" : 0,\n",
    "            \"Y1\" : 0,\n",
    "            \"X2\" : 0,\n",
    "            \"Y2\" : 0,\n",
    "            \"X_Pitch\" : 0,\n",
    "            \"Y_Pitch\" : 0,\n",
    "            \"Y_MPLSoccer\" : 0,\n",
    "            \"X_MPLSoccer\" : 0\n",
    "      }\n",
    "\n",
    "    frame_number += 1\n",
    "\n",
    "    if(generate_video):\n",
    "      annotated_frame = frame.copy()\n",
    "      annotated_frame = ellipse_annotator.annotate(\n",
    "          scene=annotated_frame,\n",
    "          detections=all_detections)\n",
    "      annotated_frame = label_annotator.annotate(\n",
    "          scene=annotated_frame,\n",
    "          detections=all_detections,\n",
    "          labels=labels)\n",
    "      annotated_frame = triangle_annotator.annotate(\n",
    "          scene=annotated_frame,\n",
    "          detections=ball_detections)\n",
    "\n",
    "      sink.write_frame(frame=annotated_frame)"
   ]
  },
  {
   "cell_type": "code",
   "execution_count": null,
   "metadata": {},
   "outputs": [],
   "source": [
    "save_tracking_results(players, ball, frame_number)"
   ]
  }
 ],
 "metadata": {
  "language_info": {
   "name": "python"
  }
 },
 "nbformat": 4,
 "nbformat_minor": 2
}
